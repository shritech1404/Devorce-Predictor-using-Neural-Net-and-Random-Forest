{
 "cells": [
  {
   "cell_type": "markdown",
   "metadata": {},
   "source": [
    "# Devorce Predictor using Neural Network with Keras"
   ]
  },
  {
   "cell_type": "code",
   "execution_count": 1,
   "metadata": {},
   "outputs": [],
   "source": [
    "import pandas as pd\n",
    "import matplotlib.pyplot as plt"
   ]
  },
  {
   "cell_type": "markdown",
   "metadata": {},
   "source": [
    "## Load dataset"
   ]
  },
  {
   "cell_type": "code",
   "execution_count": 2,
   "metadata": {},
   "outputs": [
    {
     "data": {
      "text/html": [
       "<div>\n",
       "<style scoped>\n",
       "    .dataframe tbody tr th:only-of-type {\n",
       "        vertical-align: middle;\n",
       "    }\n",
       "\n",
       "    .dataframe tbody tr th {\n",
       "        vertical-align: top;\n",
       "    }\n",
       "\n",
       "    .dataframe thead th {\n",
       "        text-align: right;\n",
       "    }\n",
       "</style>\n",
       "<table border=\"1\" class=\"dataframe\">\n",
       "  <thead>\n",
       "    <tr style=\"text-align: right;\">\n",
       "      <th></th>\n",
       "      <th>Atr1</th>\n",
       "      <th>Atr2</th>\n",
       "      <th>Atr3</th>\n",
       "      <th>Atr4</th>\n",
       "      <th>Atr5</th>\n",
       "      <th>Atr6</th>\n",
       "      <th>Atr7</th>\n",
       "      <th>Atr8</th>\n",
       "      <th>Atr9</th>\n",
       "      <th>Atr10</th>\n",
       "      <th>...</th>\n",
       "      <th>Atr46</th>\n",
       "      <th>Atr47</th>\n",
       "      <th>Atr48</th>\n",
       "      <th>Atr49</th>\n",
       "      <th>Atr50</th>\n",
       "      <th>Atr51</th>\n",
       "      <th>Atr52</th>\n",
       "      <th>Atr53</th>\n",
       "      <th>Atr54</th>\n",
       "      <th>Class</th>\n",
       "    </tr>\n",
       "  </thead>\n",
       "  <tbody>\n",
       "    <tr>\n",
       "      <th>0</th>\n",
       "      <td>2</td>\n",
       "      <td>2</td>\n",
       "      <td>4</td>\n",
       "      <td>1</td>\n",
       "      <td>0</td>\n",
       "      <td>0</td>\n",
       "      <td>0</td>\n",
       "      <td>0</td>\n",
       "      <td>0</td>\n",
       "      <td>0</td>\n",
       "      <td>...</td>\n",
       "      <td>2</td>\n",
       "      <td>1</td>\n",
       "      <td>3</td>\n",
       "      <td>3</td>\n",
       "      <td>3</td>\n",
       "      <td>2</td>\n",
       "      <td>3</td>\n",
       "      <td>2</td>\n",
       "      <td>1</td>\n",
       "      <td>1</td>\n",
       "    </tr>\n",
       "    <tr>\n",
       "      <th>1</th>\n",
       "      <td>4</td>\n",
       "      <td>4</td>\n",
       "      <td>4</td>\n",
       "      <td>4</td>\n",
       "      <td>4</td>\n",
       "      <td>0</td>\n",
       "      <td>0</td>\n",
       "      <td>4</td>\n",
       "      <td>4</td>\n",
       "      <td>4</td>\n",
       "      <td>...</td>\n",
       "      <td>2</td>\n",
       "      <td>2</td>\n",
       "      <td>3</td>\n",
       "      <td>4</td>\n",
       "      <td>4</td>\n",
       "      <td>4</td>\n",
       "      <td>4</td>\n",
       "      <td>2</td>\n",
       "      <td>2</td>\n",
       "      <td>1</td>\n",
       "    </tr>\n",
       "    <tr>\n",
       "      <th>2</th>\n",
       "      <td>2</td>\n",
       "      <td>2</td>\n",
       "      <td>2</td>\n",
       "      <td>2</td>\n",
       "      <td>1</td>\n",
       "      <td>3</td>\n",
       "      <td>2</td>\n",
       "      <td>1</td>\n",
       "      <td>1</td>\n",
       "      <td>2</td>\n",
       "      <td>...</td>\n",
       "      <td>3</td>\n",
       "      <td>2</td>\n",
       "      <td>3</td>\n",
       "      <td>1</td>\n",
       "      <td>1</td>\n",
       "      <td>1</td>\n",
       "      <td>2</td>\n",
       "      <td>2</td>\n",
       "      <td>2</td>\n",
       "      <td>1</td>\n",
       "    </tr>\n",
       "    <tr>\n",
       "      <th>3</th>\n",
       "      <td>3</td>\n",
       "      <td>2</td>\n",
       "      <td>3</td>\n",
       "      <td>2</td>\n",
       "      <td>3</td>\n",
       "      <td>3</td>\n",
       "      <td>3</td>\n",
       "      <td>3</td>\n",
       "      <td>3</td>\n",
       "      <td>3</td>\n",
       "      <td>...</td>\n",
       "      <td>2</td>\n",
       "      <td>2</td>\n",
       "      <td>3</td>\n",
       "      <td>3</td>\n",
       "      <td>3</td>\n",
       "      <td>3</td>\n",
       "      <td>2</td>\n",
       "      <td>2</td>\n",
       "      <td>2</td>\n",
       "      <td>1</td>\n",
       "    </tr>\n",
       "    <tr>\n",
       "      <th>4</th>\n",
       "      <td>2</td>\n",
       "      <td>2</td>\n",
       "      <td>1</td>\n",
       "      <td>1</td>\n",
       "      <td>1</td>\n",
       "      <td>1</td>\n",
       "      <td>0</td>\n",
       "      <td>0</td>\n",
       "      <td>0</td>\n",
       "      <td>0</td>\n",
       "      <td>...</td>\n",
       "      <td>2</td>\n",
       "      <td>1</td>\n",
       "      <td>2</td>\n",
       "      <td>3</td>\n",
       "      <td>2</td>\n",
       "      <td>2</td>\n",
       "      <td>2</td>\n",
       "      <td>1</td>\n",
       "      <td>0</td>\n",
       "      <td>1</td>\n",
       "    </tr>\n",
       "  </tbody>\n",
       "</table>\n",
       "<p>5 rows × 55 columns</p>\n",
       "</div>"
      ],
      "text/plain": [
       "   Atr1  Atr2  Atr3  Atr4  Atr5  Atr6  Atr7  Atr8  Atr9  Atr10  ...  Atr46  \\\n",
       "0     2     2     4     1     0     0     0     0     0      0  ...      2   \n",
       "1     4     4     4     4     4     0     0     4     4      4  ...      2   \n",
       "2     2     2     2     2     1     3     2     1     1      2  ...      3   \n",
       "3     3     2     3     2     3     3     3     3     3      3  ...      2   \n",
       "4     2     2     1     1     1     1     0     0     0      0  ...      2   \n",
       "\n",
       "   Atr47  Atr48  Atr49  Atr50  Atr51  Atr52  Atr53  Atr54  Class  \n",
       "0      1      3      3      3      2      3      2      1      1  \n",
       "1      2      3      4      4      4      4      2      2      1  \n",
       "2      2      3      1      1      1      2      2      2      1  \n",
       "3      2      3      3      3      3      2      2      2      1  \n",
       "4      1      2      3      2      2      2      1      0      1  \n",
       "\n",
       "[5 rows x 55 columns]"
      ]
     },
     "execution_count": 2,
     "metadata": {},
     "output_type": "execute_result"
    }
   ],
   "source": [
    "data = pd.read_excel(\"divorce.xlsx\")\n",
    "data.head()"
   ]
  },
  {
   "cell_type": "code",
   "execution_count": 3,
   "metadata": {},
   "outputs": [],
   "source": [
    "X = data.drop('Class', axis = 'columns')\n",
    "y = data.Class"
   ]
  },
  {
   "cell_type": "code",
   "execution_count": 4,
   "metadata": {},
   "outputs": [
    {
     "data": {
      "text/html": [
       "<div>\n",
       "<style scoped>\n",
       "    .dataframe tbody tr th:only-of-type {\n",
       "        vertical-align: middle;\n",
       "    }\n",
       "\n",
       "    .dataframe tbody tr th {\n",
       "        vertical-align: top;\n",
       "    }\n",
       "\n",
       "    .dataframe thead th {\n",
       "        text-align: right;\n",
       "    }\n",
       "</style>\n",
       "<table border=\"1\" class=\"dataframe\">\n",
       "  <thead>\n",
       "    <tr style=\"text-align: right;\">\n",
       "      <th></th>\n",
       "      <th>Atr1</th>\n",
       "      <th>Atr2</th>\n",
       "      <th>Atr3</th>\n",
       "      <th>Atr4</th>\n",
       "      <th>Atr5</th>\n",
       "      <th>Atr6</th>\n",
       "      <th>Atr7</th>\n",
       "      <th>Atr8</th>\n",
       "      <th>Atr9</th>\n",
       "      <th>Atr10</th>\n",
       "      <th>...</th>\n",
       "      <th>Atr45</th>\n",
       "      <th>Atr46</th>\n",
       "      <th>Atr47</th>\n",
       "      <th>Atr48</th>\n",
       "      <th>Atr49</th>\n",
       "      <th>Atr50</th>\n",
       "      <th>Atr51</th>\n",
       "      <th>Atr52</th>\n",
       "      <th>Atr53</th>\n",
       "      <th>Atr54</th>\n",
       "    </tr>\n",
       "  </thead>\n",
       "  <tbody>\n",
       "    <tr>\n",
       "      <th>0</th>\n",
       "      <td>2</td>\n",
       "      <td>2</td>\n",
       "      <td>4</td>\n",
       "      <td>1</td>\n",
       "      <td>0</td>\n",
       "      <td>0</td>\n",
       "      <td>0</td>\n",
       "      <td>0</td>\n",
       "      <td>0</td>\n",
       "      <td>0</td>\n",
       "      <td>...</td>\n",
       "      <td>3</td>\n",
       "      <td>2</td>\n",
       "      <td>1</td>\n",
       "      <td>3</td>\n",
       "      <td>3</td>\n",
       "      <td>3</td>\n",
       "      <td>2</td>\n",
       "      <td>3</td>\n",
       "      <td>2</td>\n",
       "      <td>1</td>\n",
       "    </tr>\n",
       "    <tr>\n",
       "      <th>1</th>\n",
       "      <td>4</td>\n",
       "      <td>4</td>\n",
       "      <td>4</td>\n",
       "      <td>4</td>\n",
       "      <td>4</td>\n",
       "      <td>0</td>\n",
       "      <td>0</td>\n",
       "      <td>4</td>\n",
       "      <td>4</td>\n",
       "      <td>4</td>\n",
       "      <td>...</td>\n",
       "      <td>2</td>\n",
       "      <td>2</td>\n",
       "      <td>2</td>\n",
       "      <td>3</td>\n",
       "      <td>4</td>\n",
       "      <td>4</td>\n",
       "      <td>4</td>\n",
       "      <td>4</td>\n",
       "      <td>2</td>\n",
       "      <td>2</td>\n",
       "    </tr>\n",
       "    <tr>\n",
       "      <th>2</th>\n",
       "      <td>2</td>\n",
       "      <td>2</td>\n",
       "      <td>2</td>\n",
       "      <td>2</td>\n",
       "      <td>1</td>\n",
       "      <td>3</td>\n",
       "      <td>2</td>\n",
       "      <td>1</td>\n",
       "      <td>1</td>\n",
       "      <td>2</td>\n",
       "      <td>...</td>\n",
       "      <td>2</td>\n",
       "      <td>3</td>\n",
       "      <td>2</td>\n",
       "      <td>3</td>\n",
       "      <td>1</td>\n",
       "      <td>1</td>\n",
       "      <td>1</td>\n",
       "      <td>2</td>\n",
       "      <td>2</td>\n",
       "      <td>2</td>\n",
       "    </tr>\n",
       "    <tr>\n",
       "      <th>3</th>\n",
       "      <td>3</td>\n",
       "      <td>2</td>\n",
       "      <td>3</td>\n",
       "      <td>2</td>\n",
       "      <td>3</td>\n",
       "      <td>3</td>\n",
       "      <td>3</td>\n",
       "      <td>3</td>\n",
       "      <td>3</td>\n",
       "      <td>3</td>\n",
       "      <td>...</td>\n",
       "      <td>3</td>\n",
       "      <td>2</td>\n",
       "      <td>2</td>\n",
       "      <td>3</td>\n",
       "      <td>3</td>\n",
       "      <td>3</td>\n",
       "      <td>3</td>\n",
       "      <td>2</td>\n",
       "      <td>2</td>\n",
       "      <td>2</td>\n",
       "    </tr>\n",
       "    <tr>\n",
       "      <th>4</th>\n",
       "      <td>2</td>\n",
       "      <td>2</td>\n",
       "      <td>1</td>\n",
       "      <td>1</td>\n",
       "      <td>1</td>\n",
       "      <td>1</td>\n",
       "      <td>0</td>\n",
       "      <td>0</td>\n",
       "      <td>0</td>\n",
       "      <td>0</td>\n",
       "      <td>...</td>\n",
       "      <td>2</td>\n",
       "      <td>2</td>\n",
       "      <td>1</td>\n",
       "      <td>2</td>\n",
       "      <td>3</td>\n",
       "      <td>2</td>\n",
       "      <td>2</td>\n",
       "      <td>2</td>\n",
       "      <td>1</td>\n",
       "      <td>0</td>\n",
       "    </tr>\n",
       "  </tbody>\n",
       "</table>\n",
       "<p>5 rows × 54 columns</p>\n",
       "</div>"
      ],
      "text/plain": [
       "   Atr1  Atr2  Atr3  Atr4  Atr5  Atr6  Atr7  Atr8  Atr9  Atr10  ...  Atr45  \\\n",
       "0     2     2     4     1     0     0     0     0     0      0  ...      3   \n",
       "1     4     4     4     4     4     0     0     4     4      4  ...      2   \n",
       "2     2     2     2     2     1     3     2     1     1      2  ...      2   \n",
       "3     3     2     3     2     3     3     3     3     3      3  ...      3   \n",
       "4     2     2     1     1     1     1     0     0     0      0  ...      2   \n",
       "\n",
       "   Atr46  Atr47  Atr48  Atr49  Atr50  Atr51  Atr52  Atr53  Atr54  \n",
       "0      2      1      3      3      3      2      3      2      1  \n",
       "1      2      2      3      4      4      4      4      2      2  \n",
       "2      3      2      3      1      1      1      2      2      2  \n",
       "3      2      2      3      3      3      3      2      2      2  \n",
       "4      2      1      2      3      2      2      2      1      0  \n",
       "\n",
       "[5 rows x 54 columns]"
      ]
     },
     "execution_count": 4,
     "metadata": {},
     "output_type": "execute_result"
    }
   ],
   "source": [
    "X.head()"
   ]
  },
  {
   "cell_type": "code",
   "execution_count": 5,
   "metadata": {},
   "outputs": [
    {
     "data": {
      "text/plain": [
       "0    1\n",
       "1    1\n",
       "2    1\n",
       "3    1\n",
       "4    1\n",
       "Name: Class, dtype: int64"
      ]
     },
     "execution_count": 5,
     "metadata": {},
     "output_type": "execute_result"
    }
   ],
   "source": [
    "y.head()"
   ]
  },
  {
   "cell_type": "code",
   "execution_count": 6,
   "metadata": {},
   "outputs": [],
   "source": [
    "from sklearn.model_selection import train_test_split\n",
    "X_train, X_test, y_train, y_test = train_test_split(X, y, test_size = 0.3, random_state=0)"
   ]
  },
  {
   "cell_type": "markdown",
   "metadata": {},
   "source": [
    "## data preprocessing"
   ]
  },
  {
   "cell_type": "code",
   "execution_count": 7,
   "metadata": {},
   "outputs": [],
   "source": [
    "from sklearn.preprocessing import StandardScaler\n",
    "sc = StandardScaler()\n",
    "X_train = sc.fit_transform(X_train)\n",
    "X_test = sc.transform(X_test)"
   ]
  },
  {
   "cell_type": "code",
   "execution_count": 8,
   "metadata": {},
   "outputs": [
    {
     "data": {
      "text/plain": [
       "array([[ 0.70288131,  0.22669586,  0.80794664, ...,  0.97787565,\n",
       "         1.21863233,  1.19167434],\n",
       "       [ 0.101134  ,  0.22669586,  0.80794664, ...,  0.97787565,\n",
       "         1.21863233,  1.19167434],\n",
       "       [ 0.70288131,  1.54263767,  1.48983069, ...,  0.97787565,\n",
       "         0.53458871,  1.19167434],\n",
       "       ...,\n",
       "       [ 1.30462862,  0.22669586,  0.1260626 , ...,  0.97787565,\n",
       "         0.53458871,  1.19167434],\n",
       "       [-1.10236062, -1.08924595, -1.2377055 , ...,  0.28931232,\n",
       "         0.53458871, -0.04683436],\n",
       "       [ 0.70288131,  0.88466676,  0.1260626 , ...,  0.97787565,\n",
       "         1.21863233,  1.19167434]])"
      ]
     },
     "execution_count": 8,
     "metadata": {},
     "output_type": "execute_result"
    }
   ],
   "source": [
    "X_train"
   ]
  },
  {
   "cell_type": "markdown",
   "metadata": {},
   "source": [
    "## import various keras libraries"
   ]
  },
  {
   "cell_type": "code",
   "execution_count": 9,
   "metadata": {},
   "outputs": [
    {
     "name": "stderr",
     "output_type": "stream",
     "text": [
      "Using TensorFlow backend.\n",
      "C:\\Users\\hp\\anaconda\\lib\\site-packages\\tensorflow\\python\\framework\\dtypes.py:516: FutureWarning: Passing (type, 1) or '1type' as a synonym of type is deprecated; in a future version of numpy, it will be understood as (type, (1,)) / '(1,)type'.\n",
      "  _np_qint8 = np.dtype([(\"qint8\", np.int8, 1)])\n",
      "C:\\Users\\hp\\anaconda\\lib\\site-packages\\tensorflow\\python\\framework\\dtypes.py:517: FutureWarning: Passing (type, 1) or '1type' as a synonym of type is deprecated; in a future version of numpy, it will be understood as (type, (1,)) / '(1,)type'.\n",
      "  _np_quint8 = np.dtype([(\"quint8\", np.uint8, 1)])\n",
      "C:\\Users\\hp\\anaconda\\lib\\site-packages\\tensorflow\\python\\framework\\dtypes.py:518: FutureWarning: Passing (type, 1) or '1type' as a synonym of type is deprecated; in a future version of numpy, it will be understood as (type, (1,)) / '(1,)type'.\n",
      "  _np_qint16 = np.dtype([(\"qint16\", np.int16, 1)])\n",
      "C:\\Users\\hp\\anaconda\\lib\\site-packages\\tensorflow\\python\\framework\\dtypes.py:519: FutureWarning: Passing (type, 1) or '1type' as a synonym of type is deprecated; in a future version of numpy, it will be understood as (type, (1,)) / '(1,)type'.\n",
      "  _np_quint16 = np.dtype([(\"quint16\", np.uint16, 1)])\n",
      "C:\\Users\\hp\\anaconda\\lib\\site-packages\\tensorflow\\python\\framework\\dtypes.py:520: FutureWarning: Passing (type, 1) or '1type' as a synonym of type is deprecated; in a future version of numpy, it will be understood as (type, (1,)) / '(1,)type'.\n",
      "  _np_qint32 = np.dtype([(\"qint32\", np.int32, 1)])\n",
      "C:\\Users\\hp\\anaconda\\lib\\site-packages\\tensorflow\\python\\framework\\dtypes.py:525: FutureWarning: Passing (type, 1) or '1type' as a synonym of type is deprecated; in a future version of numpy, it will be understood as (type, (1,)) / '(1,)type'.\n",
      "  np_resource = np.dtype([(\"resource\", np.ubyte, 1)])\n",
      "C:\\Users\\hp\\anaconda\\lib\\site-packages\\tensorboard\\compat\\tensorflow_stub\\dtypes.py:541: FutureWarning: Passing (type, 1) or '1type' as a synonym of type is deprecated; in a future version of numpy, it will be understood as (type, (1,)) / '(1,)type'.\n",
      "  _np_qint8 = np.dtype([(\"qint8\", np.int8, 1)])\n",
      "C:\\Users\\hp\\anaconda\\lib\\site-packages\\tensorboard\\compat\\tensorflow_stub\\dtypes.py:542: FutureWarning: Passing (type, 1) or '1type' as a synonym of type is deprecated; in a future version of numpy, it will be understood as (type, (1,)) / '(1,)type'.\n",
      "  _np_quint8 = np.dtype([(\"quint8\", np.uint8, 1)])\n",
      "C:\\Users\\hp\\anaconda\\lib\\site-packages\\tensorboard\\compat\\tensorflow_stub\\dtypes.py:543: FutureWarning: Passing (type, 1) or '1type' as a synonym of type is deprecated; in a future version of numpy, it will be understood as (type, (1,)) / '(1,)type'.\n",
      "  _np_qint16 = np.dtype([(\"qint16\", np.int16, 1)])\n",
      "C:\\Users\\hp\\anaconda\\lib\\site-packages\\tensorboard\\compat\\tensorflow_stub\\dtypes.py:544: FutureWarning: Passing (type, 1) or '1type' as a synonym of type is deprecated; in a future version of numpy, it will be understood as (type, (1,)) / '(1,)type'.\n",
      "  _np_quint16 = np.dtype([(\"quint16\", np.uint16, 1)])\n",
      "C:\\Users\\hp\\anaconda\\lib\\site-packages\\tensorboard\\compat\\tensorflow_stub\\dtypes.py:545: FutureWarning: Passing (type, 1) or '1type' as a synonym of type is deprecated; in a future version of numpy, it will be understood as (type, (1,)) / '(1,)type'.\n",
      "  _np_qint32 = np.dtype([(\"qint32\", np.int32, 1)])\n",
      "C:\\Users\\hp\\anaconda\\lib\\site-packages\\tensorboard\\compat\\tensorflow_stub\\dtypes.py:550: FutureWarning: Passing (type, 1) or '1type' as a synonym of type is deprecated; in a future version of numpy, it will be understood as (type, (1,)) / '(1,)type'.\n",
      "  np_resource = np.dtype([(\"resource\", np.ubyte, 1)])\n"
     ]
    }
   ],
   "source": [
    "import keras\n",
    "from keras.models import Sequential\n",
    "from keras.layers import Dense, Dropout "
   ]
  },
  {
   "cell_type": "markdown",
   "metadata": {},
   "source": [
    "## model Building"
   ]
  },
  {
   "cell_type": "code",
   "execution_count": 10,
   "metadata": {},
   "outputs": [],
   "source": [
    "model = Sequential()"
   ]
  },
  {
   "cell_type": "code",
   "execution_count": 11,
   "metadata": {},
   "outputs": [],
   "source": [
    "# adding first hidden layer with input layer\n",
    "model.add(Dense(units=170, activation='relu', input_dim=54))\n",
    "# adding second hidden layer\n",
    "model.add(Dense(units=170, activation='relu'))\n",
    "# adding second hidden layer\n",
    "model.add(Dense(units=100, activation='relu'))\n",
    "\n",
    "# adding output layer\n",
    "model.add(Dense(units=1, activation='sigmoid'))"
   ]
  },
  {
   "cell_type": "code",
   "execution_count": 12,
   "metadata": {},
   "outputs": [
    {
     "name": "stdout",
     "output_type": "stream",
     "text": [
      "WARNING:tensorflow:From C:\\Users\\hp\\anaconda\\lib\\site-packages\\tensorflow\\python\\ops\\nn_impl.py:180: add_dispatch_support.<locals>.wrapper (from tensorflow.python.ops.array_ops) is deprecated and will be removed in a future version.\n",
      "Instructions for updating:\n",
      "Use tf.where in 2.0, which has the same broadcast rule as np.where\n"
     ]
    }
   ],
   "source": [
    "# compile the model with optimizer and loss\n",
    "model.compile(optimizer='adamax', loss = 'binary_crossentropy', metrics=['accuracy'])"
   ]
  },
  {
   "cell_type": "code",
   "execution_count": 13,
   "metadata": {},
   "outputs": [
    {
     "name": "stdout",
     "output_type": "stream",
     "text": [
      "WARNING:tensorflow:From C:\\Users\\hp\\anaconda\\lib\\site-packages\\keras\\backend\\tensorflow_backend.py:422: The name tf.global_variables is deprecated. Please use tf.compat.v1.global_variables instead.\n",
      "\n",
      "Train on 79 samples, validate on 40 samples\n",
      "Epoch 1/100\n",
      "79/79 [==============================] - 0s 5ms/step - loss: 0.2724 - accuracy: 0.9114 - val_loss: 0.0807 - val_accuracy: 0.9750\n",
      "Epoch 2/100\n",
      "79/79 [==============================] - 0s 620us/step - loss: 0.0432 - accuracy: 0.9873 - val_loss: 0.0712 - val_accuracy: 0.9750\n",
      "Epoch 3/100\n",
      "79/79 [==============================] - 0s 575us/step - loss: 0.0346 - accuracy: 0.9873 - val_loss: 0.0753 - val_accuracy: 0.9750\n",
      "Epoch 4/100\n",
      "79/79 [==============================] - 0s 552us/step - loss: 0.0299 - accuracy: 0.9873 - val_loss: 0.0750 - val_accuracy: 0.9750\n",
      "Epoch 5/100\n",
      "79/79 [==============================] - 0s 532us/step - loss: 0.0242 - accuracy: 0.9873 - val_loss: 0.0738 - val_accuracy: 0.9750\n",
      "Epoch 6/100\n",
      "79/79 [==============================] - 0s 432us/step - loss: 0.0206 - accuracy: 0.9873 - val_loss: 0.0720 - val_accuracy: 0.9750\n",
      "Epoch 7/100\n",
      "79/79 [==============================] - 0s 469us/step - loss: 0.0164 - accuracy: 0.9873 - val_loss: 0.0725 - val_accuracy: 0.9750\n",
      "Epoch 8/100\n",
      "79/79 [==============================] - 0s 516us/step - loss: 0.0145 - accuracy: 0.9873 - val_loss: 0.0715 - val_accuracy: 0.9750\n",
      "Epoch 9/100\n",
      "79/79 [==============================] - 0s 653us/step - loss: 0.0111 - accuracy: 0.9873 - val_loss: 0.0726 - val_accuracy: 0.9750\n",
      "Epoch 10/100\n",
      "79/79 [==============================] - 0s 614us/step - loss: 0.0095 - accuracy: 1.0000 - val_loss: 0.0736 - val_accuracy: 0.9750\n",
      "Epoch 11/100\n",
      "79/79 [==============================] - 0s 523us/step - loss: 0.0072 - accuracy: 1.0000 - val_loss: 0.0758 - val_accuracy: 0.9750\n",
      "Epoch 12/100\n",
      "79/79 [==============================] - 0s 550us/step - loss: 0.0054 - accuracy: 1.0000 - val_loss: 0.0787 - val_accuracy: 0.9750\n",
      "Epoch 13/100\n",
      "79/79 [==============================] - 0s 529us/step - loss: 0.0044 - accuracy: 1.0000 - val_loss: 0.0808 - val_accuracy: 0.9750\n",
      "Epoch 14/100\n",
      "79/79 [==============================] - 0s 494us/step - loss: 0.0034 - accuracy: 1.0000 - val_loss: 0.0835 - val_accuracy: 0.9750\n",
      "Epoch 15/100\n",
      "79/79 [==============================] - 0s 502us/step - loss: 0.0030 - accuracy: 1.0000 - val_loss: 0.0850 - val_accuracy: 0.9750\n",
      "Epoch 16/100\n",
      "79/79 [==============================] - 0s 403us/step - loss: 0.0025 - accuracy: 1.0000 - val_loss: 0.0863 - val_accuracy: 0.9750\n",
      "Epoch 17/100\n",
      "79/79 [==============================] - 0s 477us/step - loss: 0.0020 - accuracy: 1.0000 - val_loss: 0.0880 - val_accuracy: 0.9750\n",
      "Epoch 18/100\n",
      "79/79 [==============================] - 0s 511us/step - loss: 0.0018 - accuracy: 1.0000 - val_loss: 0.0899 - val_accuracy: 0.9750\n",
      "Epoch 19/100\n",
      "79/79 [==============================] - 0s 497us/step - loss: 0.0015 - accuracy: 1.0000 - val_loss: 0.0914 - val_accuracy: 0.9750\n",
      "Epoch 20/100\n",
      "79/79 [==============================] - 0s 390us/step - loss: 0.0013 - accuracy: 1.0000 - val_loss: 0.0927 - val_accuracy: 0.9750\n",
      "Epoch 21/100\n",
      "79/79 [==============================] - 0s 479us/step - loss: 0.0012 - accuracy: 1.0000 - val_loss: 0.0939 - val_accuracy: 0.9750\n",
      "Epoch 22/100\n",
      "79/79 [==============================] - 0s 543us/step - loss: 0.0010 - accuracy: 1.0000 - val_loss: 0.0952 - val_accuracy: 0.9750\n",
      "Epoch 23/100\n",
      "79/79 [==============================] - 0s 516us/step - loss: 8.9811e-04 - accuracy: 1.0000 - val_loss: 0.0967 - val_accuracy: 0.9750\n",
      "Epoch 24/100\n",
      "79/79 [==============================] - 0s 542us/step - loss: 8.3242e-04 - accuracy: 1.0000 - val_loss: 0.0976 - val_accuracy: 0.9750\n",
      "Epoch 25/100\n",
      "79/79 [==============================] - 0s 415us/step - loss: 7.3412e-04 - accuracy: 1.0000 - val_loss: 0.0987 - val_accuracy: 0.9750\n",
      "Epoch 26/100\n",
      "79/79 [==============================] - 0s 532us/step - loss: 6.6349e-04 - accuracy: 1.0000 - val_loss: 0.0997 - val_accuracy: 0.9750\n",
      "Epoch 27/100\n",
      "79/79 [==============================] - 0s 465us/step - loss: 6.0720e-04 - accuracy: 1.0000 - val_loss: 0.1008 - val_accuracy: 0.9750\n",
      "Epoch 28/100\n",
      "79/79 [==============================] - 0s 522us/step - loss: 5.5466e-04 - accuracy: 1.0000 - val_loss: 0.1017 - val_accuracy: 0.9750\n",
      "Epoch 29/100\n",
      "79/79 [==============================] - 0s 526us/step - loss: 4.9681e-04 - accuracy: 1.0000 - val_loss: 0.1029 - val_accuracy: 0.9750\n",
      "Epoch 30/100\n",
      "79/79 [==============================] - 0s 455us/step - loss: 4.7764e-04 - accuracy: 1.0000 - val_loss: 0.1037 - val_accuracy: 0.9750\n",
      "Epoch 31/100\n",
      "79/79 [==============================] - 0s 503us/step - loss: 4.2728e-04 - accuracy: 1.0000 - val_loss: 0.1045 - val_accuracy: 0.9750\n",
      "Epoch 32/100\n",
      "79/79 [==============================] - 0s 445us/step - loss: 3.9386e-04 - accuracy: 1.0000 - val_loss: 0.1054 - val_accuracy: 0.9750\n",
      "Epoch 33/100\n",
      "79/79 [==============================] - 0s 544us/step - loss: 3.6382e-04 - accuracy: 1.0000 - val_loss: 0.1064 - val_accuracy: 0.9750\n",
      "Epoch 34/100\n",
      "79/79 [==============================] - 0s 441us/step - loss: 3.5153e-04 - accuracy: 1.0000 - val_loss: 0.1070 - val_accuracy: 0.9750\n",
      "Epoch 35/100\n",
      "79/79 [==============================] - 0s 618us/step - loss: 3.1722e-04 - accuracy: 1.0000 - val_loss: 0.1079 - val_accuracy: 0.9750\n",
      "Epoch 36/100\n",
      "79/79 [==============================] - 0s 484us/step - loss: 3.0026e-04 - accuracy: 1.0000 - val_loss: 0.1085 - val_accuracy: 0.9750\n",
      "Epoch 37/100\n",
      "79/79 [==============================] - 0s 471us/step - loss: 2.8572e-04 - accuracy: 1.0000 - val_loss: 0.1092 - val_accuracy: 0.9750\n",
      "Epoch 38/100\n",
      "79/79 [==============================] - 0s 449us/step - loss: 2.6560e-04 - accuracy: 1.0000 - val_loss: 0.1100 - val_accuracy: 0.9750\n",
      "Epoch 39/100\n",
      "79/79 [==============================] - 0s 456us/step - loss: 2.4729e-04 - accuracy: 1.0000 - val_loss: 0.1108 - val_accuracy: 0.9750\n",
      "Epoch 40/100\n",
      "79/79 [==============================] - 0s 480us/step - loss: 2.3785e-04 - accuracy: 1.0000 - val_loss: 0.1115 - val_accuracy: 0.9750\n",
      "Epoch 41/100\n",
      "79/79 [==============================] - 0s 541us/step - loss: 2.2370e-04 - accuracy: 1.0000 - val_loss: 0.1121 - val_accuracy: 0.9750\n",
      "Epoch 42/100\n",
      "79/79 [==============================] - 0s 431us/step - loss: 2.1128e-04 - accuracy: 1.0000 - val_loss: 0.1128 - val_accuracy: 0.9750\n",
      "Epoch 43/100\n",
      "79/79 [==============================] - 0s 531us/step - loss: 2.0095e-04 - accuracy: 1.0000 - val_loss: 0.1134 - val_accuracy: 0.9750\n",
      "Epoch 44/100\n",
      "79/79 [==============================] - 0s 428us/step - loss: 1.8705e-04 - accuracy: 1.0000 - val_loss: 0.1141 - val_accuracy: 0.9750\n",
      "Epoch 45/100\n",
      "79/79 [==============================] - 0s 457us/step - loss: 1.8225e-04 - accuracy: 1.0000 - val_loss: 0.1146 - val_accuracy: 0.9750\n",
      "Epoch 46/100\n",
      "79/79 [==============================] - 0s 426us/step - loss: 1.6921e-04 - accuracy: 1.0000 - val_loss: 0.1153 - val_accuracy: 0.9750\n",
      "Epoch 47/100\n",
      "79/79 [==============================] - 0s 523us/step - loss: 1.6323e-04 - accuracy: 1.0000 - val_loss: 0.1159 - val_accuracy: 0.9750\n",
      "Epoch 48/100\n",
      "79/79 [==============================] - 0s 384us/step - loss: 1.5524e-04 - accuracy: 1.0000 - val_loss: 0.1166 - val_accuracy: 0.9750\n",
      "Epoch 49/100\n",
      "79/79 [==============================] - 0s 493us/step - loss: 1.4823e-04 - accuracy: 1.0000 - val_loss: 0.1170 - val_accuracy: 0.9750\n",
      "Epoch 50/100\n",
      "79/79 [==============================] - 0s 422us/step - loss: 1.4121e-04 - accuracy: 1.0000 - val_loss: 0.1175 - val_accuracy: 0.9750\n",
      "Epoch 51/100\n",
      "79/79 [==============================] - 0s 422us/step - loss: 1.3599e-04 - accuracy: 1.0000 - val_loss: 0.1181 - val_accuracy: 0.9750\n",
      "Epoch 52/100\n",
      "79/79 [==============================] - 0s 445us/step - loss: 1.2946e-04 - accuracy: 1.0000 - val_loss: 0.1186 - val_accuracy: 0.9750\n",
      "Epoch 53/100\n",
      "79/79 [==============================] - 0s 528us/step - loss: 1.2309e-04 - accuracy: 1.0000 - val_loss: 0.1192 - val_accuracy: 0.9750\n",
      "Epoch 54/100\n",
      "79/79 [==============================] - 0s 444us/step - loss: 1.1788e-04 - accuracy: 1.0000 - val_loss: 0.1197 - val_accuracy: 0.9750\n",
      "Epoch 55/100\n"
     ]
    },
    {
     "name": "stdout",
     "output_type": "stream",
     "text": [
      "79/79 [==============================] - 0s 354us/step - loss: 1.1319e-04 - accuracy: 1.0000 - val_loss: 0.1203 - val_accuracy: 0.9750\n",
      "Epoch 56/100\n",
      "79/79 [==============================] - 0s 466us/step - loss: 1.0960e-04 - accuracy: 1.0000 - val_loss: 0.1207 - val_accuracy: 0.9750\n",
      "Epoch 57/100\n",
      "79/79 [==============================] - 0s 440us/step - loss: 1.0555e-04 - accuracy: 1.0000 - val_loss: 0.1211 - val_accuracy: 0.9750\n",
      "Epoch 58/100\n",
      "79/79 [==============================] - 0s 356us/step - loss: 1.0045e-04 - accuracy: 1.0000 - val_loss: 0.1215 - val_accuracy: 0.9750\n",
      "Epoch 59/100\n",
      "79/79 [==============================] - 0s 395us/step - loss: 9.5795e-05 - accuracy: 1.0000 - val_loss: 0.1219 - val_accuracy: 0.9750\n",
      "Epoch 60/100\n",
      "79/79 [==============================] - 0s 693us/step - loss: 9.2271e-05 - accuracy: 1.0000 - val_loss: 0.1223 - val_accuracy: 0.9750\n",
      "Epoch 61/100\n",
      "79/79 [==============================] - 0s 603us/step - loss: 8.8002e-05 - accuracy: 1.0000 - val_loss: 0.1227 - val_accuracy: 0.9750\n",
      "Epoch 62/100\n",
      "79/79 [==============================] - 0s 679us/step - loss: 8.4748e-05 - accuracy: 1.0000 - val_loss: 0.1230 - val_accuracy: 0.9750\n",
      "Epoch 63/100\n",
      "79/79 [==============================] - 0s 670us/step - loss: 8.0893e-05 - accuracy: 1.0000 - val_loss: 0.1234 - val_accuracy: 0.9750\n",
      "Epoch 64/100\n",
      "79/79 [==============================] - 0s 556us/step - loss: 7.8764e-05 - accuracy: 1.0000 - val_loss: 0.1237 - val_accuracy: 0.9750\n",
      "Epoch 65/100\n",
      "79/79 [==============================] - 0s 642us/step - loss: 7.4362e-05 - accuracy: 1.0000 - val_loss: 0.1241 - val_accuracy: 0.9750\n",
      "Epoch 66/100\n",
      "79/79 [==============================] - 0s 680us/step - loss: 7.2155e-05 - accuracy: 1.0000 - val_loss: 0.1243 - val_accuracy: 0.9750\n",
      "Epoch 67/100\n",
      "79/79 [==============================] - 0s 679us/step - loss: 6.8599e-05 - accuracy: 1.0000 - val_loss: 0.1248 - val_accuracy: 0.9750\n",
      "Epoch 68/100\n",
      "79/79 [==============================] - 0s 716us/step - loss: 6.6595e-05 - accuracy: 1.0000 - val_loss: 0.1251 - val_accuracy: 0.9750\n",
      "Epoch 69/100\n",
      "79/79 [==============================] - 0s 654us/step - loss: 6.4415e-05 - accuracy: 1.0000 - val_loss: 0.1254 - val_accuracy: 0.9750\n",
      "Epoch 70/100\n",
      "79/79 [==============================] - 0s 636us/step - loss: 6.1880e-05 - accuracy: 1.0000 - val_loss: 0.1257 - val_accuracy: 0.9750\n",
      "Epoch 71/100\n",
      "79/79 [==============================] - 0s 724us/step - loss: 5.9183e-05 - accuracy: 1.0000 - val_loss: 0.1261 - val_accuracy: 0.9750\n",
      "Epoch 72/100\n",
      "79/79 [==============================] - 0s 625us/step - loss: 5.6704e-05 - accuracy: 1.0000 - val_loss: 0.1267 - val_accuracy: 0.9750\n",
      "Epoch 73/100\n",
      "79/79 [==============================] - 0s 724us/step - loss: 5.5444e-05 - accuracy: 1.0000 - val_loss: 0.1270 - val_accuracy: 0.9750\n",
      "Epoch 74/100\n",
      "79/79 [==============================] - 0s 742us/step - loss: 5.3327e-05 - accuracy: 1.0000 - val_loss: 0.1274 - val_accuracy: 0.9750\n",
      "Epoch 75/100\n",
      "79/79 [==============================] - 0s 845us/step - loss: 5.1113e-05 - accuracy: 1.0000 - val_loss: 0.1277 - val_accuracy: 0.9750\n",
      "Epoch 76/100\n",
      "79/79 [==============================] - 0s 764us/step - loss: 5.0096e-05 - accuracy: 1.0000 - val_loss: 0.1280 - val_accuracy: 0.9750\n",
      "Epoch 77/100\n",
      "79/79 [==============================] - 0s 736us/step - loss: 4.7921e-05 - accuracy: 1.0000 - val_loss: 0.1284 - val_accuracy: 0.9750\n",
      "Epoch 78/100\n",
      "79/79 [==============================] - 0s 725us/step - loss: 4.6627e-05 - accuracy: 1.0000 - val_loss: 0.1288 - val_accuracy: 0.9750\n",
      "Epoch 79/100\n",
      "79/79 [==============================] - 0s 789us/step - loss: 4.5097e-05 - accuracy: 1.0000 - val_loss: 0.1292 - val_accuracy: 0.9750\n",
      "Epoch 80/100\n",
      "79/79 [==============================] - 0s 766us/step - loss: 4.3392e-05 - accuracy: 1.0000 - val_loss: 0.1295 - val_accuracy: 0.9750\n",
      "Epoch 81/100\n",
      "79/79 [==============================] - 0s 753us/step - loss: 4.2167e-05 - accuracy: 1.0000 - val_loss: 0.1299 - val_accuracy: 0.9750\n",
      "Epoch 82/100\n",
      "79/79 [==============================] - 0s 713us/step - loss: 4.0872e-05 - accuracy: 1.0000 - val_loss: 0.1304 - val_accuracy: 0.9750\n",
      "Epoch 83/100\n",
      "79/79 [==============================] - 0s 839us/step - loss: 3.9557e-05 - accuracy: 1.0000 - val_loss: 0.1306 - val_accuracy: 0.9750\n",
      "Epoch 84/100\n",
      "79/79 [==============================] - 0s 745us/step - loss: 3.8345e-05 - accuracy: 1.0000 - val_loss: 0.1310 - val_accuracy: 0.9750\n",
      "Epoch 85/100\n",
      "79/79 [==============================] - 0s 762us/step - loss: 3.7017e-05 - accuracy: 1.0000 - val_loss: 0.1313 - val_accuracy: 0.9750\n",
      "Epoch 86/100\n",
      "79/79 [==============================] - 0s 634us/step - loss: 3.5668e-05 - accuracy: 1.0000 - val_loss: 0.1317 - val_accuracy: 0.9750\n",
      "Epoch 87/100\n",
      "79/79 [==============================] - 0s 813us/step - loss: 3.4318e-05 - accuracy: 1.0000 - val_loss: 0.1319 - val_accuracy: 0.9750\n",
      "Epoch 88/100\n",
      "79/79 [==============================] - 0s 819us/step - loss: 3.3366e-05 - accuracy: 1.0000 - val_loss: 0.1322 - val_accuracy: 0.9750\n",
      "Epoch 89/100\n",
      "79/79 [==============================] - 0s 662us/step - loss: 3.2508e-05 - accuracy: 1.0000 - val_loss: 0.1324 - val_accuracy: 0.9750\n",
      "Epoch 90/100\n",
      "79/79 [==============================] - 0s 753us/step - loss: 3.1008e-05 - accuracy: 1.0000 - val_loss: 0.1327 - val_accuracy: 0.9750\n",
      "Epoch 91/100\n",
      "79/79 [==============================] - 0s 810us/step - loss: 3.0021e-05 - accuracy: 1.0000 - val_loss: 0.1330 - val_accuracy: 0.9750\n",
      "Epoch 92/100\n",
      "79/79 [==============================] - 0s 702us/step - loss: 2.8953e-05 - accuracy: 1.0000 - val_loss: 0.1334 - val_accuracy: 0.9750\n",
      "Epoch 93/100\n",
      "79/79 [==============================] - 0s 747us/step - loss: 2.8006e-05 - accuracy: 1.0000 - val_loss: 0.1337 - val_accuracy: 0.9750\n",
      "Epoch 94/100\n",
      "79/79 [==============================] - 0s 734us/step - loss: 2.7302e-05 - accuracy: 1.0000 - val_loss: 0.1340 - val_accuracy: 0.9750\n",
      "Epoch 95/100\n",
      "79/79 [==============================] - 0s 734us/step - loss: 2.6382e-05 - accuracy: 1.0000 - val_loss: 0.1343 - val_accuracy: 0.9750\n",
      "Epoch 96/100\n",
      "79/79 [==============================] - 0s 701us/step - loss: 2.5523e-05 - accuracy: 1.0000 - val_loss: 0.1347 - val_accuracy: 0.9750\n",
      "Epoch 97/100\n",
      "79/79 [==============================] - 0s 853us/step - loss: 2.5006e-05 - accuracy: 1.0000 - val_loss: 0.1349 - val_accuracy: 0.9750\n",
      "Epoch 98/100\n",
      "79/79 [==============================] - 0s 765us/step - loss: 2.4211e-05 - accuracy: 1.0000 - val_loss: 0.1353 - val_accuracy: 0.9750\n",
      "Epoch 99/100\n",
      "79/79 [==============================] - 0s 692us/step - loss: 2.3479e-05 - accuracy: 1.0000 - val_loss: 0.1356 - val_accuracy: 0.9750\n",
      "Epoch 100/100\n",
      "79/79 [==============================] - 0s 699us/step - loss: 2.2785e-05 - accuracy: 1.0000 - val_loss: 0.1360 - val_accuracy: 0.9750\n"
     ]
    },
    {
     "data": {
      "text/plain": [
       "<keras.callbacks.callbacks.History at 0x1b367bfc748>"
      ]
     },
     "execution_count": 13,
     "metadata": {},
     "output_type": "execute_result"
    }
   ],
   "source": [
    "# train the model with neural net\n",
    "model.fit(X_train, y_train, batch_size=10, epochs=100, validation_split=0.33)"
   ]
  },
  {
   "cell_type": "code",
   "execution_count": 14,
   "metadata": {},
   "outputs": [],
   "source": [
    "y_pred = model.predict(X_test)\n",
    "y_pred = (y_pred > 0.5)\n",
    "\n",
    "from sklearn.metrics import confusion_matrix\n",
    "cm = confusion_matrix(y_test, y_pred)\n",
    "from sklearn.metrics import accuracy_score\n",
    "score = accuracy_score(y_pred, y_test)"
   ]
  },
  {
   "cell_type": "code",
   "execution_count": 15,
   "metadata": {},
   "outputs": [
    {
     "data": {
      "text/plain": [
       "array([[27,  0],\n",
       "       [ 2, 22]], dtype=int64)"
      ]
     },
     "execution_count": 15,
     "metadata": {},
     "output_type": "execute_result"
    }
   ],
   "source": [
    "cm"
   ]
  },
  {
   "cell_type": "code",
   "execution_count": 16,
   "metadata": {},
   "outputs": [
    {
     "data": {
      "text/plain": [
       "0.9607843137254902"
      ]
     },
     "execution_count": 16,
     "metadata": {},
     "output_type": "execute_result"
    }
   ],
   "source": [
    "score"
   ]
  },
  {
   "cell_type": "code",
   "execution_count": 17,
   "metadata": {},
   "outputs": [
    {
     "name": "stdout",
     "output_type": "stream",
     "text": [
      "Model: \"sequential_1\"\n",
      "_________________________________________________________________\n",
      "Layer (type)                 Output Shape              Param #   \n",
      "=================================================================\n",
      "dense_1 (Dense)              (None, 170)               9350      \n",
      "_________________________________________________________________\n",
      "dense_2 (Dense)              (None, 170)               29070     \n",
      "_________________________________________________________________\n",
      "dense_3 (Dense)              (None, 100)               17100     \n",
      "_________________________________________________________________\n",
      "dense_4 (Dense)              (None, 1)                 101       \n",
      "=================================================================\n",
      "Total params: 55,621\n",
      "Trainable params: 55,621\n",
      "Non-trainable params: 0\n",
      "_________________________________________________________________\n"
     ]
    }
   ],
   "source": [
    "model.summary()"
   ]
  },
  {
   "cell_type": "markdown",
   "metadata": {},
   "source": [
    "# Divorce Predictor using Random Forest"
   ]
  },
  {
   "cell_type": "code",
   "execution_count": 18,
   "metadata": {},
   "outputs": [],
   "source": [
    "from sklearn.ensemble import RandomForestClassifier\n",
    "RF = RandomForestClassifier()"
   ]
  },
  {
   "cell_type": "code",
   "execution_count": 19,
   "metadata": {},
   "outputs": [
    {
     "data": {
      "text/plain": [
       "RandomForestClassifier(bootstrap=True, ccp_alpha=0.0, class_weight=None,\n",
       "                       criterion='gini', max_depth=None, max_features='auto',\n",
       "                       max_leaf_nodes=None, max_samples=None,\n",
       "                       min_impurity_decrease=0.0, min_impurity_split=None,\n",
       "                       min_samples_leaf=1, min_samples_split=2,\n",
       "                       min_weight_fraction_leaf=0.0, n_estimators=100,\n",
       "                       n_jobs=None, oob_score=False, random_state=None,\n",
       "                       verbose=0, warm_start=False)"
      ]
     },
     "execution_count": 19,
     "metadata": {},
     "output_type": "execute_result"
    }
   ],
   "source": [
    "RF.fit(X_train, y_train)"
   ]
  },
  {
   "cell_type": "code",
   "execution_count": 20,
   "metadata": {},
   "outputs": [],
   "source": [
    "predict = RF.predict(X_test)"
   ]
  },
  {
   "cell_type": "code",
   "execution_count": 21,
   "metadata": {},
   "outputs": [],
   "source": [
    "from sklearn.metrics import confusion_matrix\n",
    "c_matrix = confusion_matrix(predict, y_test)\n",
    "from sklearn.metrics import accuracy_score\n",
    "accuracy = accuracy_score(y_pred, y_test)"
   ]
  },
  {
   "cell_type": "code",
   "execution_count": 22,
   "metadata": {},
   "outputs": [
    {
     "data": {
      "text/plain": [
       "array([[27,  2],\n",
       "       [ 0, 22]], dtype=int64)"
      ]
     },
     "execution_count": 22,
     "metadata": {},
     "output_type": "execute_result"
    }
   ],
   "source": [
    "c_matrix"
   ]
  },
  {
   "cell_type": "code",
   "execution_count": 23,
   "metadata": {},
   "outputs": [
    {
     "data": {
      "text/plain": [
       "0.9607843137254902"
      ]
     },
     "execution_count": 23,
     "metadata": {},
     "output_type": "execute_result"
    }
   ],
   "source": [
    "accuracy"
   ]
  }
 ],
 "metadata": {
  "kernelspec": {
   "display_name": "Python 3",
   "language": "python",
   "name": "python3"
  },
  "language_info": {
   "codemirror_mode": {
    "name": "ipython",
    "version": 3
   },
   "file_extension": ".py",
   "mimetype": "text/x-python",
   "name": "python",
   "nbconvert_exporter": "python",
   "pygments_lexer": "ipython3",
   "version": "3.7.6"
  }
 },
 "nbformat": 4,
 "nbformat_minor": 4
}
